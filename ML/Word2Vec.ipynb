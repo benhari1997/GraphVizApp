{
 "cells": [
  {
   "cell_type": "markdown",
   "metadata": {},
   "source": [
    "***\n",
    "## <center>NLP words embedding using Word2Vec </center> \n",
    "\n",
    "#### <center> Student. Benhari Abdessalam -- Mines Paristech - March 2021 </center>\n",
    "***\n",
    "### > Introduction :\n",
    "\n",
    "\n",
    "In this notebook we create a word2vec model pipeline that we train on a bunch of data to use in our app. We are using as a library _gensim_. The original implementation can be found <a href=\"https://arxiv.org/pdf/1301.3781.pdf\">HERE</a>.\n",
    "\n",
    "The data used for training comes from the <a href=\" http://kavita-ganesan.com/entity-ranking-data/\">OpinRank</a> documentation."
   ]
  },
  {
   "cell_type": "code",
   "execution_count": 1,
   "metadata": {},
   "outputs": [],
   "source": [
    "# Libraries importation :\n",
    "import gzip\n",
    "import gensim \n",
    "import logging\n",
    "\n",
    "# login configuration :\n",
    "logging.basicConfig(format='%(asctime)s : %(levelname)s : %(message)s', level=logging.INFO)"
   ]
  },
  {
   "cell_type": "markdown",
   "metadata": {},
   "source": [
    "> ### >> Data extraction : \n",
    "\n",
    "First, we extract and process our document as an input-ready list for our model :"
   ]
  },
  {
   "cell_type": "code",
   "execution_count": 2,
   "metadata": {},
   "outputs": [
    {
     "output_type": "stream",
     "name": "stderr",
     "text": [
      "2021-03-22 18:22:58,020 : INFO : reading file ../data/mLearning/reviews_data.txt.gz...\n",
      "2021-03-22 18:22:58,032 : INFO : read 0 reviews\n",
      "2021-03-22 18:22:59,773 : INFO : read 10000 reviews\n",
      "2021-03-22 18:23:01,547 : INFO : read 20000 reviews\n",
      "2021-03-22 18:23:03,473 : INFO : read 30000 reviews\n",
      "2021-03-22 18:23:05,377 : INFO : read 40000 reviews\n",
      "2021-03-22 18:23:07,429 : INFO : read 50000 reviews\n",
      "2021-03-22 18:23:09,332 : INFO : read 60000 reviews\n",
      "2021-03-22 18:23:10,978 : INFO : read 70000 reviews\n",
      "2021-03-22 18:23:12,435 : INFO : read 80000 reviews\n",
      "2021-03-22 18:23:13,984 : INFO : read 90000 reviews\n",
      "2021-03-22 18:23:15,746 : INFO : read 100000 reviews\n",
      "2021-03-22 18:23:17,357 : INFO : read 110000 reviews\n",
      "2021-03-22 18:23:18,985 : INFO : read 120000 reviews\n",
      "2021-03-22 18:23:21,141 : INFO : read 130000 reviews\n",
      "2021-03-22 18:23:23,234 : INFO : read 140000 reviews\n",
      "2021-03-22 18:23:25,523 : INFO : read 150000 reviews\n",
      "2021-03-22 18:23:27,516 : INFO : read 160000 reviews\n",
      "2021-03-22 18:23:29,349 : INFO : read 170000 reviews\n",
      "2021-03-22 18:23:31,048 : INFO : read 180000 reviews\n",
      "2021-03-22 18:23:38,912 : INFO : read 190000 reviews\n",
      "2021-03-22 18:23:40,792 : INFO : read 200000 reviews\n",
      "2021-03-22 18:23:42,553 : INFO : read 210000 reviews\n",
      "2021-03-22 18:23:45,847 : INFO : read 220000 reviews\n",
      "2021-03-22 18:23:48,110 : INFO : read 230000 reviews\n",
      "2021-03-22 18:23:51,827 : INFO : read 240000 reviews\n",
      "2021-03-22 18:23:55,231 : INFO : read 250000 reviews\n",
      "2021-03-22 18:23:56,254 : INFO : Done reading data file\n"
     ]
    }
   ],
   "source": [
    "# setting the data path\n",
    "dataPath=\"../data/mLearning/reviews_data.txt.gz\"\n",
    "\n",
    "def readInput(inputPath):\n",
    "    \"\"\" Reads the input file which is\n",
    "        in gzip format.\n",
    "    \"\"\"\n",
    "    # loggin info display\n",
    "    logging.info(\"reading file {0}...\".format(inputPath))\n",
    "    \n",
    "    with gzip.open (inputPath, 'rb') as f:\n",
    "        for i, line in enumerate (f): \n",
    "            if (i%10000==0):\n",
    "                # logging info display 2\n",
    "                logging.info (\"read {0} reviews\".format (i))\n",
    "\n",
    "            # get a list of words for each review text\n",
    "            yield gensim.utils.simple_preprocess (line)\n",
    "\n",
    "# get a list of all the words from the preprocessed docs\n",
    "documents = list (readInput(dataPath))\n",
    "logging.info (\"Done reading data file\")    "
   ]
  },
  {
   "cell_type": "markdown",
   "metadata": {},
   "source": [
    "> ### >> Model training :\n",
    "\n",
    "In this section we train our model using the prepared data before, and then we save it to be able to use it without training it fro scratch."
   ]
  },
  {
   "cell_type": "code",
   "execution_count": 3,
   "metadata": {
    "tags": [
     "outputPrepend"
    ]
   },
   "outputs": [
    {
     "output_type": "stream",
     "name": "stderr",
     "text": [
      "e 0\n",
      "2021-03-22 18:28:35,152 : INFO : EPOCH 6 - PROGRESS: at 5.50% examples, 826650 words/s, in_qsize 17, out_qsize 2\n",
      "2021-03-22 18:28:36,170 : INFO : EPOCH 6 - PROGRESS: at 7.93% examples, 800827 words/s, in_qsize 20, out_qsize 2\n",
      "2021-03-22 18:28:37,187 : INFO : EPOCH 6 - PROGRESS: at 10.32% examples, 808637 words/s, in_qsize 19, out_qsize 0\n",
      "2021-03-22 18:28:38,194 : INFO : EPOCH 6 - PROGRESS: at 12.96% examples, 839734 words/s, in_qsize 19, out_qsize 0\n",
      "2021-03-22 18:28:39,199 : INFO : EPOCH 6 - PROGRESS: at 15.78% examples, 856257 words/s, in_qsize 18, out_qsize 1\n",
      "2021-03-22 18:28:40,200 : INFO : EPOCH 6 - PROGRESS: at 18.61% examples, 882516 words/s, in_qsize 19, out_qsize 0\n",
      "2021-03-22 18:28:41,212 : INFO : EPOCH 6 - PROGRESS: at 21.48% examples, 896591 words/s, in_qsize 18, out_qsize 1\n",
      "2021-03-22 18:28:42,215 : INFO : EPOCH 6 - PROGRESS: at 24.07% examples, 908557 words/s, in_qsize 18, out_qsize 1\n",
      "2021-03-22 18:28:43,218 : INFO : EPOCH 6 - PROGRESS: at 27.92% examples, 925473 words/s, in_qsize 19, out_qsize 0\n",
      "2021-03-22 18:28:44,230 : INFO : EPOCH 6 - PROGRESS: at 32.16% examples, 947278 words/s, in_qsize 19, out_qsize 0\n",
      "2021-03-22 18:28:45,243 : INFO : EPOCH 6 - PROGRESS: at 36.38% examples, 969027 words/s, in_qsize 19, out_qsize 0\n",
      "2021-03-22 18:28:46,246 : INFO : EPOCH 6 - PROGRESS: at 40.58% examples, 986046 words/s, in_qsize 19, out_qsize 0\n",
      "2021-03-22 18:28:47,256 : INFO : EPOCH 6 - PROGRESS: at 44.59% examples, 992141 words/s, in_qsize 17, out_qsize 2\n",
      "2021-03-22 18:28:48,268 : INFO : EPOCH 6 - PROGRESS: at 48.26% examples, 995781 words/s, in_qsize 18, out_qsize 1\n",
      "2021-03-22 18:28:49,282 : INFO : EPOCH 6 - PROGRESS: at 52.01% examples, 1000487 words/s, in_qsize 18, out_qsize 1\n",
      "2021-03-22 18:28:50,286 : INFO : EPOCH 6 - PROGRESS: at 55.44% examples, 1001266 words/s, in_qsize 18, out_qsize 1\n",
      "2021-03-22 18:28:51,285 : INFO : EPOCH 6 - PROGRESS: at 58.99% examples, 1002601 words/s, in_qsize 17, out_qsize 2\n",
      "2021-03-22 18:28:52,287 : INFO : EPOCH 6 - PROGRESS: at 62.80% examples, 1008087 words/s, in_qsize 18, out_qsize 1\n",
      "2021-03-22 18:28:53,290 : INFO : EPOCH 6 - PROGRESS: at 66.65% examples, 1012348 words/s, in_qsize 19, out_qsize 0\n",
      "2021-03-22 18:28:54,294 : INFO : EPOCH 6 - PROGRESS: at 69.51% examples, 1004857 words/s, in_qsize 19, out_qsize 0\n",
      "2021-03-22 18:28:55,294 : INFO : EPOCH 6 - PROGRESS: at 73.05% examples, 1006984 words/s, in_qsize 18, out_qsize 1\n",
      "2021-03-22 18:28:56,299 : INFO : EPOCH 6 - PROGRESS: at 76.36% examples, 1007418 words/s, in_qsize 19, out_qsize 0\n",
      "2021-03-22 18:28:57,307 : INFO : EPOCH 6 - PROGRESS: at 79.67% examples, 1007685 words/s, in_qsize 19, out_qsize 0\n",
      "2021-03-22 18:28:58,315 : INFO : EPOCH 6 - PROGRESS: at 83.24% examples, 1010270 words/s, in_qsize 19, out_qsize 0\n",
      "2021-03-22 18:28:59,328 : INFO : EPOCH 6 - PROGRESS: at 86.71% examples, 1011471 words/s, in_qsize 19, out_qsize 0\n",
      "2021-03-22 18:29:00,327 : INFO : EPOCH 6 - PROGRESS: at 90.74% examples, 1015675 words/s, in_qsize 19, out_qsize 0\n",
      "2021-03-22 18:29:01,332 : INFO : EPOCH 6 - PROGRESS: at 94.60% examples, 1019755 words/s, in_qsize 18, out_qsize 1\n",
      "2021-03-22 18:29:02,339 : INFO : EPOCH 6 - PROGRESS: at 98.43% examples, 1022847 words/s, in_qsize 19, out_qsize 0\n",
      "2021-03-22 18:29:02,677 : INFO : worker thread finished; awaiting finish of 9 more threads\n",
      "2021-03-22 18:29:02,682 : INFO : worker thread finished; awaiting finish of 8 more threads\n",
      "2021-03-22 18:29:02,684 : INFO : worker thread finished; awaiting finish of 7 more threads\n",
      "2021-03-22 18:29:02,692 : INFO : worker thread finished; awaiting finish of 6 more threads\n",
      "2021-03-22 18:29:02,697 : INFO : worker thread finished; awaiting finish of 5 more threads\n",
      "2021-03-22 18:29:02,699 : INFO : worker thread finished; awaiting finish of 4 more threads\n",
      "2021-03-22 18:29:02,702 : INFO : worker thread finished; awaiting finish of 3 more threads\n",
      "2021-03-22 18:29:02,712 : INFO : worker thread finished; awaiting finish of 2 more threads\n",
      "2021-03-22 18:29:02,716 : INFO : worker thread finished; awaiting finish of 1 more threads\n",
      "2021-03-22 18:29:02,717 : INFO : worker thread finished; awaiting finish of 0 more threads\n",
      "2021-03-22 18:29:02,718 : INFO : EPOCH - 6 : training on 41519358 raw words (30348211 effective words) took 29.6s, 1024731 effective words/s\n",
      "2021-03-22 18:29:03,727 : INFO : EPOCH 7 - PROGRESS: at 3.46% examples, 1072744 words/s, in_qsize 19, out_qsize 0\n",
      "2021-03-22 18:29:04,732 : INFO : EPOCH 7 - PROGRESS: at 7.22% examples, 1110057 words/s, in_qsize 19, out_qsize 0\n",
      "2021-03-22 18:29:05,737 : INFO : EPOCH 7 - PROGRESS: at 10.72% examples, 1140485 words/s, in_qsize 19, out_qsize 0\n",
      "2021-03-22 18:29:06,747 : INFO : EPOCH 7 - PROGRESS: at 13.81% examples, 1135569 words/s, in_qsize 20, out_qsize 0\n",
      "2021-03-22 18:29:07,749 : INFO : EPOCH 7 - PROGRESS: at 17.30% examples, 1153297 words/s, in_qsize 20, out_qsize 0\n",
      "2021-03-22 18:29:08,754 : INFO : EPOCH 7 - PROGRESS: at 20.50% examples, 1161846 words/s, in_qsize 19, out_qsize 0\n",
      "2021-03-22 18:29:09,770 : INFO : EPOCH 7 - PROGRESS: at 24.00% examples, 1172707 words/s, in_qsize 19, out_qsize 0\n",
      "2021-03-22 18:29:10,770 : INFO : EPOCH 7 - PROGRESS: at 28.44% examples, 1182975 words/s, in_qsize 18, out_qsize 1\n",
      "2021-03-22 18:29:11,770 : INFO : EPOCH 7 - PROGRESS: at 32.71% examples, 1183539 words/s, in_qsize 19, out_qsize 0\n",
      "2021-03-22 18:29:12,782 : INFO : EPOCH 7 - PROGRESS: at 36.75% examples, 1180957 words/s, in_qsize 18, out_qsize 1\n",
      "2021-03-22 18:29:13,792 : INFO : EPOCH 7 - PROGRESS: at 40.64% examples, 1173283 words/s, in_qsize 18, out_qsize 1\n",
      "2021-03-22 18:29:14,796 : INFO : EPOCH 7 - PROGRESS: at 44.86% examples, 1169457 words/s, in_qsize 17, out_qsize 2\n",
      "2021-03-22 18:29:15,808 : INFO : EPOCH 7 - PROGRESS: at 49.18% examples, 1173242 words/s, in_qsize 19, out_qsize 0\n",
      "2021-03-22 18:29:16,820 : INFO : EPOCH 7 - PROGRESS: at 53.19% examples, 1175689 words/s, in_qsize 18, out_qsize 1\n",
      "2021-03-22 18:29:17,824 : INFO : EPOCH 7 - PROGRESS: at 57.57% examples, 1180021 words/s, in_qsize 19, out_qsize 0\n",
      "2021-03-22 18:29:18,824 : INFO : EPOCH 7 - PROGRESS: at 61.59% examples, 1179946 words/s, in_qsize 19, out_qsize 0\n",
      "2021-03-22 18:29:19,834 : INFO : EPOCH 7 - PROGRESS: at 65.54% examples, 1174732 words/s, in_qsize 20, out_qsize 1\n",
      "2021-03-22 18:29:20,834 : INFO : EPOCH 7 - PROGRESS: at 69.56% examples, 1176567 words/s, in_qsize 19, out_qsize 0\n",
      "2021-03-22 18:29:21,839 : INFO : EPOCH 7 - PROGRESS: at 73.58% examples, 1176694 words/s, in_qsize 18, out_qsize 1\n",
      "2021-03-22 18:29:22,852 : INFO : EPOCH 7 - PROGRESS: at 77.54% examples, 1179956 words/s, in_qsize 19, out_qsize 0\n",
      "2021-03-22 18:29:23,856 : INFO : EPOCH 7 - PROGRESS: at 81.31% examples, 1178702 words/s, in_qsize 19, out_qsize 0\n",
      "2021-03-22 18:29:24,857 : INFO : EPOCH 7 - PROGRESS: at 84.95% examples, 1176018 words/s, in_qsize 19, out_qsize 0\n",
      "2021-03-22 18:29:25,862 : INFO : EPOCH 7 - PROGRESS: at 89.14% examples, 1176107 words/s, in_qsize 19, out_qsize 0\n",
      "2021-03-22 18:29:26,874 : INFO : EPOCH 7 - PROGRESS: at 93.32% examples, 1177319 words/s, in_qsize 18, out_qsize 1\n",
      "2021-03-22 18:29:27,878 : INFO : EPOCH 7 - PROGRESS: at 97.61% examples, 1179599 words/s, in_qsize 19, out_qsize 0\n",
      "2021-03-22 18:29:28,405 : INFO : worker thread finished; awaiting finish of 9 more threads\n",
      "2021-03-22 18:29:28,412 : INFO : worker thread finished; awaiting finish of 8 more threads\n",
      "2021-03-22 18:29:28,413 : INFO : worker thread finished; awaiting finish of 7 more threads\n",
      "2021-03-22 18:29:28,420 : INFO : worker thread finished; awaiting finish of 6 more threads\n",
      "2021-03-22 18:29:28,422 : INFO : worker thread finished; awaiting finish of 5 more threads\n",
      "2021-03-22 18:29:28,429 : INFO : worker thread finished; awaiting finish of 4 more threads\n",
      "2021-03-22 18:29:28,435 : INFO : worker thread finished; awaiting finish of 3 more threads\n",
      "2021-03-22 18:29:28,436 : INFO : worker thread finished; awaiting finish of 2 more threads\n",
      "2021-03-22 18:29:28,441 : INFO : worker thread finished; awaiting finish of 1 more threads\n",
      "2021-03-22 18:29:28,446 : INFO : worker thread finished; awaiting finish of 0 more threads\n",
      "2021-03-22 18:29:28,447 : INFO : EPOCH - 7 : training on 41519358 raw words (30350123 effective words) took 25.7s, 1180027 effective words/s\n",
      "2021-03-22 18:29:29,458 : INFO : EPOCH 8 - PROGRESS: at 3.35% examples, 1038585 words/s, in_qsize 19, out_qsize 0\n",
      "2021-03-22 18:29:30,472 : INFO : EPOCH 8 - PROGRESS: at 6.94% examples, 1059108 words/s, in_qsize 18, out_qsize 1\n",
      "2021-03-22 18:29:31,474 : INFO : EPOCH 8 - PROGRESS: at 10.32% examples, 1095631 words/s, in_qsize 18, out_qsize 1\n",
      "2021-03-22 18:29:32,478 : INFO : EPOCH 8 - PROGRESS: at 13.71% examples, 1122120 words/s, in_qsize 19, out_qsize 0\n",
      "2021-03-22 18:29:33,477 : INFO : EPOCH 8 - PROGRESS: at 17.16% examples, 1142064 words/s, in_qsize 18, out_qsize 1\n",
      "2021-03-22 18:29:34,482 : INFO : EPOCH 8 - PROGRESS: at 20.49% examples, 1161826 words/s, in_qsize 19, out_qsize 0\n",
      "2021-03-22 18:29:35,480 : INFO : EPOCH 8 - PROGRESS: at 23.88% examples, 1167911 words/s, in_qsize 17, out_qsize 2\n",
      "2021-03-22 18:29:36,487 : INFO : EPOCH 8 - PROGRESS: at 28.10% examples, 1171858 words/s, in_qsize 19, out_qsize 0\n",
      "2021-03-22 18:29:37,488 : INFO : EPOCH 8 - PROGRESS: at 32.45% examples, 1175809 words/s, in_qsize 18, out_qsize 1\n",
      "2021-03-22 18:29:38,508 : INFO : EPOCH 8 - PROGRESS: at 36.40% examples, 1171129 words/s, in_qsize 20, out_qsize 2\n",
      "2021-03-22 18:29:39,508 : INFO : EPOCH 8 - PROGRESS: at 40.47% examples, 1170026 words/s, in_qsize 18, out_qsize 1\n",
      "2021-03-22 18:29:40,512 : INFO : EPOCH 8 - PROGRESS: at 45.09% examples, 1176056 words/s, in_qsize 19, out_qsize 0\n",
      "2021-03-22 18:29:41,524 : INFO : EPOCH 8 - PROGRESS: at 49.38% examples, 1179397 words/s, in_qsize 19, out_qsize 0\n",
      "2021-03-22 18:29:42,536 : INFO : EPOCH 8 - PROGRESS: at 53.42% examples, 1181377 words/s, in_qsize 19, out_qsize 0\n",
      "2021-03-22 18:29:43,533 : INFO : EPOCH 8 - PROGRESS: at 57.71% examples, 1184396 words/s, in_qsize 18, out_qsize 1\n",
      "2021-03-22 18:29:44,538 : INFO : EPOCH 8 - PROGRESS: at 61.99% examples, 1188532 words/s, in_qsize 18, out_qsize 1\n",
      "2021-03-22 18:29:45,545 : INFO : EPOCH 8 - PROGRESS: at 66.45% examples, 1192336 words/s, in_qsize 19, out_qsize 0\n",
      "2021-03-22 18:29:46,557 : INFO : EPOCH 8 - PROGRESS: at 70.51% examples, 1193585 words/s, in_qsize 19, out_qsize 0\n",
      "2021-03-22 18:29:47,563 : INFO : EPOCH 8 - PROGRESS: at 74.76% examples, 1195252 words/s, in_qsize 19, out_qsize 0\n",
      "2021-03-22 18:29:48,567 : INFO : EPOCH 8 - PROGRESS: at 78.52% examples, 1195755 words/s, in_qsize 19, out_qsize 0\n",
      "2021-03-22 18:29:49,576 : INFO : EPOCH 8 - PROGRESS: at 82.66% examples, 1197955 words/s, in_qsize 19, out_qsize 0\n",
      "2021-03-22 18:29:50,577 : INFO : EPOCH 8 - PROGRESS: at 86.78% examples, 1200231 words/s, in_qsize 20, out_qsize 0\n",
      "2021-03-22 18:29:51,584 : INFO : EPOCH 8 - PROGRESS: at 91.18% examples, 1201416 words/s, in_qsize 18, out_qsize 1\n",
      "2021-03-22 18:29:52,601 : INFO : EPOCH 8 - PROGRESS: at 95.46% examples, 1202556 words/s, in_qsize 18, out_qsize 1\n",
      "2021-03-22 18:29:53,606 : INFO : EPOCH 8 - PROGRESS: at 99.68% examples, 1203167 words/s, in_qsize 13, out_qsize 0\n",
      "2021-03-22 18:29:53,627 : INFO : worker thread finished; awaiting finish of 9 more threads\n",
      "2021-03-22 18:29:53,637 : INFO : worker thread finished; awaiting finish of 8 more threads\n",
      "2021-03-22 18:29:53,646 : INFO : worker thread finished; awaiting finish of 7 more threads\n",
      "2021-03-22 18:29:53,650 : INFO : worker thread finished; awaiting finish of 6 more threads\n",
      "2021-03-22 18:29:53,653 : INFO : worker thread finished; awaiting finish of 5 more threads\n",
      "2021-03-22 18:29:53,655 : INFO : worker thread finished; awaiting finish of 4 more threads\n",
      "2021-03-22 18:29:53,661 : INFO : worker thread finished; awaiting finish of 3 more threads\n",
      "2021-03-22 18:29:53,663 : INFO : worker thread finished; awaiting finish of 2 more threads\n",
      "2021-03-22 18:29:53,670 : INFO : worker thread finished; awaiting finish of 1 more threads\n",
      "2021-03-22 18:29:53,674 : INFO : worker thread finished; awaiting finish of 0 more threads\n",
      "2021-03-22 18:29:53,675 : INFO : EPOCH - 8 : training on 41519358 raw words (30350020 effective words) took 25.2s, 1203515 effective words/s\n",
      "2021-03-22 18:29:54,688 : INFO : EPOCH 9 - PROGRESS: at 3.73% examples, 1148336 words/s, in_qsize 18, out_qsize 1\n",
      "2021-03-22 18:29:55,697 : INFO : EPOCH 9 - PROGRESS: at 7.62% examples, 1170617 words/s, in_qsize 19, out_qsize 0\n",
      "2021-03-22 18:29:56,706 : INFO : EPOCH 9 - PROGRESS: at 10.92% examples, 1164798 words/s, in_qsize 17, out_qsize 2\n",
      "2021-03-22 18:29:57,713 : INFO : EPOCH 9 - PROGRESS: at 14.22% examples, 1166397 words/s, in_qsize 19, out_qsize 0\n",
      "2021-03-22 18:29:58,714 : INFO : EPOCH 9 - PROGRESS: at 17.58% examples, 1170850 words/s, in_qsize 19, out_qsize 0\n",
      "2021-03-22 18:29:59,728 : INFO : EPOCH 9 - PROGRESS: at 20.64% examples, 1170301 words/s, in_qsize 19, out_qsize 0\n",
      "2021-03-22 18:30:00,727 : INFO : EPOCH 9 - PROGRESS: at 23.96% examples, 1169415 words/s, in_qsize 19, out_qsize 0\n",
      "2021-03-22 18:30:01,731 : INFO : EPOCH 9 - PROGRESS: at 28.24% examples, 1174044 words/s, in_qsize 19, out_qsize 0\n",
      "2021-03-22 18:30:02,751 : INFO : EPOCH 9 - PROGRESS: at 32.59% examples, 1176273 words/s, in_qsize 18, out_qsize 1\n",
      "2021-03-22 18:30:03,753 : INFO : EPOCH 9 - PROGRESS: at 36.78% examples, 1179872 words/s, in_qsize 19, out_qsize 0\n",
      "2021-03-22 18:30:04,761 : INFO : EPOCH 9 - PROGRESS: at 41.25% examples, 1184935 words/s, in_qsize 18, out_qsize 1\n",
      "2021-03-22 18:30:05,764 : INFO : EPOCH 9 - PROGRESS: at 45.87% examples, 1191594 words/s, in_qsize 20, out_qsize 0\n",
      "2021-03-22 18:30:06,775 : INFO : EPOCH 9 - PROGRESS: at 50.16% examples, 1194254 words/s, in_qsize 19, out_qsize 0\n",
      "2021-03-22 18:30:07,781 : INFO : EPOCH 9 - PROGRESS: at 54.24% examples, 1197188 words/s, in_qsize 19, out_qsize 0\n",
      "2021-03-22 18:30:08,784 : INFO : EPOCH 9 - PROGRESS: at 58.68% examples, 1201017 words/s, in_qsize 19, out_qsize 0\n",
      "2021-03-22 18:30:09,788 : INFO : EPOCH 9 - PROGRESS: at 63.05% examples, 1204912 words/s, in_qsize 19, out_qsize 0\n",
      "2021-03-22 18:30:10,795 : INFO : EPOCH 9 - PROGRESS: at 67.45% examples, 1207873 words/s, in_qsize 19, out_qsize 0\n",
      "2021-03-22 18:30:11,796 : INFO : EPOCH 9 - PROGRESS: at 71.47% examples, 1208759 words/s, in_qsize 19, out_qsize 0\n",
      "2021-03-22 18:30:12,801 : INFO : EPOCH 9 - PROGRESS: at 75.48% examples, 1207065 words/s, in_qsize 20, out_qsize 0\n",
      "2021-03-22 18:30:13,805 : INFO : EPOCH 9 - PROGRESS: at 79.47% examples, 1209307 words/s, in_qsize 18, out_qsize 1\n",
      "2021-03-22 18:30:14,808 : INFO : EPOCH 9 - PROGRESS: at 83.52% examples, 1209887 words/s, in_qsize 20, out_qsize 0\n",
      "2021-03-22 18:30:15,815 : INFO : EPOCH 9 - PROGRESS: at 87.30% examples, 1206139 words/s, in_qsize 19, out_qsize 0\n",
      "2021-03-22 18:30:16,824 : INFO : EPOCH 9 - PROGRESS: at 91.76% examples, 1207853 words/s, in_qsize 19, out_qsize 0\n",
      "2021-03-22 18:30:17,827 : INFO : EPOCH 9 - PROGRESS: at 95.91% examples, 1208138 words/s, in_qsize 18, out_qsize 2\n",
      "2021-03-22 18:30:18,723 : INFO : worker thread finished; awaiting finish of 9 more threads\n",
      "2021-03-22 18:30:18,731 : INFO : worker thread finished; awaiting finish of 8 more threads\n",
      "2021-03-22 18:30:18,731 : INFO : worker thread finished; awaiting finish of 7 more threads\n",
      "2021-03-22 18:30:18,731 : INFO : worker thread finished; awaiting finish of 6 more threads\n",
      "2021-03-22 18:30:18,740 : INFO : worker thread finished; awaiting finish of 5 more threads\n",
      "2021-03-22 18:30:18,748 : INFO : worker thread finished; awaiting finish of 4 more threads\n",
      "2021-03-22 18:30:18,753 : INFO : worker thread finished; awaiting finish of 3 more threads\n",
      "2021-03-22 18:30:18,756 : INFO : worker thread finished; awaiting finish of 2 more threads\n",
      "2021-03-22 18:30:18,759 : INFO : worker thread finished; awaiting finish of 1 more threads\n",
      "2021-03-22 18:30:18,764 : INFO : worker thread finished; awaiting finish of 0 more threads\n",
      "2021-03-22 18:30:18,765 : INFO : EPOCH - 9 : training on 41519358 raw words (30349450 effective words) took 25.1s, 1209980 effective words/s\n",
      "2021-03-22 18:30:19,774 : INFO : EPOCH 10 - PROGRESS: at 3.82% examples, 1181836 words/s, in_qsize 19, out_qsize 0\n",
      "2021-03-22 18:30:20,778 : INFO : EPOCH 10 - PROGRESS: at 7.52% examples, 1157436 words/s, in_qsize 19, out_qsize 0\n",
      "2021-03-22 18:30:21,780 : INFO : EPOCH 10 - PROGRESS: at 10.73% examples, 1144780 words/s, in_qsize 18, out_qsize 1\n",
      "2021-03-22 18:30:22,788 : INFO : EPOCH 10 - PROGRESS: at 13.85% examples, 1140190 words/s, in_qsize 20, out_qsize 1\n",
      "2021-03-22 18:30:23,785 : INFO : EPOCH 10 - PROGRESS: at 17.25% examples, 1149695 words/s, in_qsize 19, out_qsize 0\n",
      "2021-03-22 18:30:24,788 : INFO : EPOCH 10 - PROGRESS: at 20.52% examples, 1165717 words/s, in_qsize 19, out_qsize 0\n",
      "2021-03-22 18:30:25,799 : INFO : EPOCH 10 - PROGRESS: at 23.98% examples, 1174429 words/s, in_qsize 17, out_qsize 2\n",
      "2021-03-22 18:30:26,808 : INFO : EPOCH 10 - PROGRESS: at 28.31% examples, 1179565 words/s, in_qsize 17, out_qsize 2\n",
      "2021-03-22 18:30:27,812 : INFO : EPOCH 10 - PROGRESS: at 32.73% examples, 1184843 words/s, in_qsize 19, out_qsize 0\n",
      "2021-03-22 18:30:28,814 : INFO : EPOCH 10 - PROGRESS: at 36.97% examples, 1188821 words/s, in_qsize 18, out_qsize 1\n",
      "2021-03-22 18:30:29,817 : INFO : EPOCH 10 - PROGRESS: at 41.53% examples, 1195119 words/s, in_qsize 20, out_qsize 0\n",
      "2021-03-22 18:30:30,828 : INFO : EPOCH 10 - PROGRESS: at 46.09% examples, 1198380 words/s, in_qsize 18, out_qsize 1\n",
      "2021-03-22 18:30:31,834 : INFO : EPOCH 10 - PROGRESS: at 49.88% examples, 1191521 words/s, in_qsize 20, out_qsize 0\n",
      "2021-03-22 18:30:32,832 : INFO : EPOCH 10 - PROGRESS: at 53.96% examples, 1194254 words/s, in_qsize 18, out_qsize 1\n",
      "2021-03-22 18:30:33,832 : INFO : EPOCH 10 - PROGRESS: at 58.25% examples, 1196529 words/s, in_qsize 19, out_qsize 0\n",
      "2021-03-22 18:30:34,834 : INFO : EPOCH 10 - PROGRESS: at 62.45% examples, 1197676 words/s, in_qsize 18, out_qsize 1\n",
      "2021-03-22 18:30:35,832 : INFO : EPOCH 10 - PROGRESS: at 66.72% examples, 1198980 words/s, in_qsize 19, out_qsize 0\n",
      "2021-03-22 18:30:36,845 : INFO : EPOCH 10 - PROGRESS: at 70.76% examples, 1199822 words/s, in_qsize 19, out_qsize 0\n",
      "2021-03-22 18:30:37,848 : INFO : EPOCH 10 - PROGRESS: at 74.69% examples, 1195988 words/s, in_qsize 19, out_qsize 0\n",
      "2021-03-22 18:30:38,863 : INFO : EPOCH 10 - PROGRESS: at 77.93% examples, 1187839 words/s, in_qsize 17, out_qsize 2\n",
      "2021-03-22 18:30:39,873 : INFO : EPOCH 10 - PROGRESS: at 81.56% examples, 1183959 words/s, in_qsize 19, out_qsize 0\n",
      "2021-03-22 18:30:40,877 : INFO : EPOCH 10 - PROGRESS: at 85.45% examples, 1184182 words/s, in_qsize 19, out_qsize 0\n",
      "2021-03-22 18:30:41,883 : INFO : EPOCH 10 - PROGRESS: at 89.72% examples, 1184502 words/s, in_qsize 18, out_qsize 1\n",
      "2021-03-22 18:30:42,889 : INFO : EPOCH 10 - PROGRESS: at 93.85% examples, 1184592 words/s, in_qsize 18, out_qsize 1\n",
      "2021-03-22 18:30:43,894 : INFO : EPOCH 10 - PROGRESS: at 98.06% examples, 1186135 words/s, in_qsize 19, out_qsize 0\n",
      "2021-03-22 18:30:44,284 : INFO : worker thread finished; awaiting finish of 9 more threads\n",
      "2021-03-22 18:30:44,292 : INFO : worker thread finished; awaiting finish of 8 more threads\n",
      "2021-03-22 18:30:44,299 : INFO : worker thread finished; awaiting finish of 7 more threads\n",
      "2021-03-22 18:30:44,306 : INFO : worker thread finished; awaiting finish of 6 more threads\n",
      "2021-03-22 18:30:44,307 : INFO : worker thread finished; awaiting finish of 5 more threads\n",
      "2021-03-22 18:30:44,316 : INFO : worker thread finished; awaiting finish of 4 more threads\n",
      "2021-03-22 18:30:44,320 : INFO : worker thread finished; awaiting finish of 3 more threads\n",
      "2021-03-22 18:30:44,324 : INFO : worker thread finished; awaiting finish of 2 more threads\n",
      "2021-03-22 18:30:44,328 : INFO : worker thread finished; awaiting finish of 1 more threads\n",
      "2021-03-22 18:30:44,328 : INFO : worker thread finished; awaiting finish of 0 more threads\n",
      "2021-03-22 18:30:44,328 : INFO : EPOCH - 10 : training on 41519358 raw words (30350660 effective words) took 25.6s, 1187557 effective words/s\n",
      "2021-03-22 18:30:44,328 : INFO : training on a 415193580 raw words (303497013 effective words) took 260.7s, 1164231 effective words/s\n"
     ]
    },
    {
     "output_type": "execute_result",
     "data": {
      "text/plain": [
       "(303497013, 415193580)"
      ]
     },
     "metadata": {},
     "execution_count": 3
    }
   ],
   "source": [
    "# Setting the model\n",
    "model = gensim.models.Word2Vec (documents, size=150, window=10, min_count=2, workers=10)\n",
    "\n",
    "# Training the model\n",
    "model.train(documents,total_examples=len(documents),epochs=10)"
   ]
  },
  {
   "cell_type": "code",
   "execution_count": 5,
   "metadata": {},
   "outputs": [
    {
     "output_type": "stream",
     "name": "stderr",
     "text": [
      "2021-03-22 18:32:28,281 : INFO : saving Word2Vec object under models/word2vecModel, separately None\n",
      "2021-03-22 18:32:28,282 : INFO : storing np array 'vectors' to models/word2vecModel.wv.vectors.npy\n",
      "2021-03-22 18:32:28,525 : INFO : not storing attribute vectors_norm\n",
      "2021-03-22 18:32:28,527 : INFO : storing np array 'syn1neg' to models/word2vecModel.trainables.syn1neg.npy\n",
      "2021-03-22 18:32:28,908 : INFO : saved models/word2vecModel\n"
     ]
    }
   ],
   "source": [
    "# Saving the model into our data folder\n",
    "model.save('models/word2vecModel')"
   ]
  },
  {
   "cell_type": "markdown",
   "metadata": {},
   "source": [
    "> ### >> Output examples : \n",
    "\n",
    "The word2vec trained model can be used to calculate similarity, ressemblance, non-similarity, the intruder word (on a list) and much more. In our case, we are only going to use it to predict some synonyms and get the embedding vectors :"
   ]
  },
  {
   "cell_type": "code",
   "execution_count": 6,
   "metadata": {},
   "outputs": [
    {
     "output_type": "stream",
     "name": "stderr",
     "text": [
      "2021-03-22 18:32:41,834 : INFO : precomputing L2-norms of word weight vectors\n"
     ]
    },
    {
     "output_type": "execute_result",
     "data": {
      "text/plain": [
       "[('pleased', 0.8089096546173096),\n",
       " ('satisfied', 0.7358423471450806),\n",
       " ('delighted', 0.6559268832206726),\n",
       " ('impressed', 0.6552660465240479),\n",
       " ('thrilled', 0.6467134952545166),\n",
       " ('disappointed', 0.5812833309173584),\n",
       " ('dissapointed', 0.5792136192321777),\n",
       " ('grateful', 0.5529959201812744),\n",
       " ('willing', 0.5381923913955688),\n",
       " ('displeased', 0.5198877453804016)]"
      ]
     },
     "metadata": {},
     "execution_count": 6
    }
   ],
   "source": [
    "# EXAMPLE : Similarity (synonym) results :\n",
    "w1 = \"happy\"\n",
    "model.wv.most_similar (positive=w1)"
   ]
  },
  {
   "cell_type": "code",
   "execution_count": 7,
   "metadata": {},
   "outputs": [
    {
     "output_type": "execute_result",
     "data": {
      "text/plain": [
       "array([ 4.990052  ,  0.841634  ,  1.5524447 ,  3.2968087 ,  1.7365276 ,\n",
       "        0.8118474 ,  2.306224  , -1.2724187 ,  1.0596699 ,  0.9143704 ,\n",
       "        1.8354827 , -0.41388938,  0.4152715 , -0.4517619 , -3.010841  ,\n",
       "       -1.8359199 , -1.5408039 ,  0.4325712 , -2.0794213 , -0.5403505 ,\n",
       "       -1.6379613 , -0.24902526, -2.384686  , -1.2031227 ,  1.813023  ,\n",
       "       -0.9492246 , -2.1577306 , -1.5225183 ,  1.4909753 ,  1.3825532 ,\n",
       "        3.086713  , -3.0291204 , -0.84425706, -0.9748284 , -2.697659  ,\n",
       "       -0.49744514, -0.6550763 , -0.85399914,  3.6276917 ,  0.73236203,\n",
       "       -1.7324402 ,  0.97531676, -0.9627324 , -1.8066303 , -0.01335902,\n",
       "        0.7721689 , -2.3003924 , -0.7372992 , -0.48276767, -2.8071015 ,\n",
       "       -1.3335373 ,  3.072297  ,  1.7701883 , -2.007972  , -1.0845212 ,\n",
       "        0.8838573 ,  0.42267337,  0.99321747, -1.3929528 , -4.410457  ,\n",
       "       -1.7682109 , -2.0521379 ,  0.25185904, -0.32647207,  0.24923967,\n",
       "        3.6221285 ,  1.3064955 ,  1.1378423 , -2.738603  ,  1.5174229 ,\n",
       "       -2.5520778 , -2.65616   ,  2.4470994 ,  1.369615  ,  2.6638575 ,\n",
       "        0.76157165,  2.502789  ,  1.2696662 ,  4.1942677 ,  2.524456  ,\n",
       "        3.4115396 , -0.434035  ,  1.3958629 , -1.6279167 ,  0.02379516,\n",
       "       -0.3053991 ,  1.4040887 ,  2.1413002 , -0.9957912 , -0.4684952 ,\n",
       "        8.314388  , -3.502624  , -7.2100167 , -0.2778524 ,  2.9104    ,\n",
       "        1.3662025 , -4.9522543 ,  2.4352763 , -4.4234276 , -0.37212512,\n",
       "        2.7077541 ,  1.2685232 , -0.43848622,  0.27284834,  0.3617884 ,\n",
       "        0.28872856, -0.22880141,  0.8528929 , -1.489875  ,  3.263436  ,\n",
       "        1.7150009 , -0.11973673, -0.70189416,  6.6900744 ,  2.0387666 ,\n",
       "        0.95700705, -2.4104125 , -2.9813874 , -2.5380197 ,  2.349835  ,\n",
       "        3.0854905 ,  1.7927849 , -0.36928222,  0.2103122 , -2.0433455 ,\n",
       "       -1.1122339 , -1.2145814 ,  0.78746754, -2.772722  ,  1.9307457 ,\n",
       "       -0.1683575 , -2.6541708 ,  2.128118  , -1.5548129 , -2.2768822 ,\n",
       "        0.55017895, -0.15095149, -0.05945543, -1.0864482 , -0.37748647,\n",
       "        0.17069612, -1.222943  ,  0.8777048 , -2.1006355 ,  3.1601002 ,\n",
       "       -2.7947733 , -0.27074242, -4.5082817 ,  0.2314045 ,  4.8353453 ],\n",
       "      dtype=float32)"
      ]
     },
     "metadata": {},
     "execution_count": 7
    }
   ],
   "source": [
    "# EXAMPLE : Embedded vector of the word \"bad\"\n",
    "model.wv['dirty']"
   ]
  }
 ],
 "metadata": {
  "kernelspec": {
   "display_name": "Python 3",
   "language": "python",
   "name": "python3"
  },
  "language_info": {
   "codemirror_mode": {
    "name": "ipython",
    "version": 3
   },
   "file_extension": ".py",
   "mimetype": "text/x-python",
   "name": "python",
   "nbconvert_exporter": "python",
   "pygments_lexer": "ipython3",
   "version": "3.8.0-final"
  }
 },
 "nbformat": 4,
 "nbformat_minor": 2
}